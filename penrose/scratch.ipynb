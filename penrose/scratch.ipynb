{
 "metadata": {
  "language_info": {
   "codemirror_mode": {
    "name": "ipython",
    "version": 3
   },
   "file_extension": ".py",
   "mimetype": "text/x-python",
   "name": "python",
   "nbconvert_exporter": "python",
   "pygments_lexer": "ipython3",
   "version": "3.9.1-final"
  },
  "orig_nbformat": 2,
  "kernelspec": {
   "name": "python39164bitpenrosecondaa6e9f03a54674cf28f7aa696daa8069a",
   "display_name": "Python 3.9.1 64-bit ('penrose': conda)",
   "language": "python"
  }
 },
 "nbformat": 4,
 "nbformat_minor": 2,
 "cells": [
  {
   "cell_type": "code",
   "execution_count": null,
   "metadata": {},
   "outputs": [],
   "source": [
    "import numpy\n",
    "import math\n",
    "\n",
    "vertices = [(0,0),(0,1),(1,1),(1,0)]\n",
    "\n",
    "\n",
    "new_vertex = ((vertices[0][0] + vertices[-1][0]) / 2, \n",
    "             (vertices[0][1] + vertices[-1][1]) / 2)\n",
    "\n",
    "\n",
    "print(new_vertex)\n",
    "angles=[]\n",
    "for i, vertex in enumerate(vertices):\n",
    "    print(i,vertices[i-1],vertices[(i+1)%len(vertices)])\n",
    "    this_vertex = vertices[i]\n",
    "    next_vertex = vertices[(i+1)%len(vertices)]\n",
    "    previous_vertex = vertices[i-1]\n",
    "\n",
    "\n",
    "    v1 = (next_vertex[0]-this_vertex[0],next_vertex[1]-this_vertex[1])\n",
    "    v2 = (previous_vertex[0]-this_vertex[0],previous_vertex[1]-this_vertex[1])\n",
    "    \n",
    "    angles.append(math.degrees(math.acos(numpy.dot(v1,v2)/numpy.linalg.norm(v1)/numpy.linalg.norm(v2))))\n",
    "\n",
    "\n",
    "print(angles)"
   ]
  },
  {
   "cell_type": "code",
   "execution_count": null,
   "metadata": {},
   "outputs": [],
   "source": [
    "import math\n",
    "origin=(0,0)\n",
    "sides=3\n",
    "vertices=[origin]\n",
    "for i in range(1,sides):\n",
    "    theta=math.radians(i*(180-360/sides))\n",
    "    vertices.append((vertices[i-1][0]+math.cos(theta),vertices[i-1][1]+math.sin(theta)))\n",
    "print(vertices)"
   ]
  },
  {
   "cell_type": "code",
   "execution_count": null,
   "metadata": {},
   "outputs": [],
   "source": [
    "import math\n",
    "theta=108*5\n",
    "print(math.cos(math.radians(theta)),math.sin(math.radians(theta)))\n"
   ]
  },
  {
   "cell_type": "code",
   "execution_count": null,
   "metadata": {},
   "outputs": [],
   "source": [
    "vertices = [(0,0),(0,1),(1,1),(1,0)]\n",
    "\n",
    "#b = list(sum(vertices, ()))\n",
    "#print(b)\n",
    "\n",
    "sum(vertices,())"
   ]
  },
  {
   "cell_type": "code",
   "execution_count": null,
   "metadata": {},
   "outputs": [],
   "source": [
    "class Contact(object):\n",
    "\n",
    "    def __init__(self, first_name=None, last_name=None, \n",
    "                 display_name=None, email=None):\n",
    "        self.first_name = first_name\n",
    "        self.last_name = last_name\n",
    "        self.display_name = display_name\n",
    "        self.email = email\n",
    "\n",
    "    def print_info(self):\n",
    "        print (self.display_name, \"<\" + self.email + \">\")            \n",
    "\n",
    "    def set_email(self, value):\n",
    "        if '@' not in value:\n",
    "            raise Exception(\"This doesn't look like an email address.\")\n",
    "        self._email = value\n",
    "\n",
    "    def get_email(self):\n",
    "        return self._email\n",
    "\n",
    "    email = property(get_email, set_email)"
   ]
  },
  {
   "cell_type": "code",
   "execution_count": null,
   "metadata": {},
   "outputs": [],
   "source": [
    "c = Contact(email=\"t@f\")\n",
    "c.print_info()"
   ]
  },
  {
   "cell_type": "code",
   "execution_count": 73,
   "metadata": {},
   "outputs": [
    {
     "output_type": "stream",
     "name": "stdout",
     "text": [
      "top -> ['lvl1', 'lvl2']\nlvl1 -> ['lvl2'] lvl2 -> ['lvl3']\ntop\n|--lvl1\n|  |--lvl2\n|     |--lvl3\n|--lvl2\n|  |--lvl3\n"
     ]
    }
   ],
   "source": [
    "class TestChildren():\n",
    "\n",
    "    def __init__(self,id=\"\",children=None):\n",
    "        self.id = id\n",
    "        self.children = children\n",
    "        \n",
    "\n",
    "    def add_child(self,child):\n",
    "        if self.children is None:\n",
    "            self.children = [child]\n",
    "        else:\n",
    "            self.children.append(child)\n",
    "        \n",
    "\n",
    "    def __str__(self):\n",
    "        if self.children is None:\n",
    "            return f\"{self.id} -> None\"\n",
    "        \n",
    "        str_ids=[]\n",
    "        for c in self.children:\n",
    "            str_ids.append(c.id)\n",
    "\n",
    "        return f\"{self.id} -> {str_ids}\"\n",
    "\n",
    "    def list_all_children(self,level=0):\n",
    "        list_of_children=\"\"\n",
    "        \n",
    "        if self.children:\n",
    "            for child in self.children:\n",
    "                list_of_children += f\"\\n{'|'*(level != 0)}{'  '*level}{' '*(level > 1)}|--{child.list_all_children(level+1)}\"\n",
    "            return f\"{self.id}{list_of_children}\"\n",
    "        else:\n",
    "            return f\"{self.id}\"\n",
    "\n",
    "lvl1 = TestChildren(id=\"lvl1\")\n",
    "lvl2 = TestChildren(id=\"lvl2\")\n",
    "top = TestChildren(id=\"top\",children=[lvl1])\n",
    "top.add_child(lvl2)\n",
    "lvl1_3=TestChildren(id=\"lvl3\")\n",
    "lvl2.add_child(lvl1_3)\n",
    "lvl1.add_child(lvl2)\n",
    "\n",
    "\n",
    "print(top)\n",
    "print(lvl1,lvl2)\n",
    "print(top.list_all_children())"
   ]
  },
  {
   "cell_type": "code",
   "execution_count": 57,
   "metadata": {},
   "outputs": [
    {
     "output_type": "stream",
     "name": "stdout",
     "text": [
      "|     hell\n"
     ]
    }
   ],
   "source": [
    "print(f\"{'|'*(True)}{' '*4} hell\")"
   ]
  }
 ]
}