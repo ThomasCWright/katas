{
 "metadata": {
  "language_info": {
   "codemirror_mode": {
    "name": "ipython",
    "version": 3
   },
   "file_extension": ".py",
   "mimetype": "text/x-python",
   "name": "python",
   "nbconvert_exporter": "python",
   "pygments_lexer": "ipython3",
   "version": "3.9.1-final"
  },
  "orig_nbformat": 2,
  "kernelspec": {
   "name": "python39164bitpenrosecondaa6e9f03a54674cf28f7aa696daa8069a",
   "display_name": "Python 3.9.1 64-bit ('penrose': conda)",
   "language": "python"
  }
 },
 "nbformat": 4,
 "nbformat_minor": 2,
 "cells": [
  {
   "cell_type": "code",
   "execution_count": 19,
   "metadata": {},
   "outputs": [
    {
     "output_type": "stream",
     "name": "stdout",
     "text": [
      "(0.5, 0.0)\n0 (1, 0) (0, 1)\n"
     ]
    },
    {
     "output_type": "error",
     "ename": "TypeError",
     "evalue": "unsupported operand type(s) for -: 'tuple' and 'tuple'",
     "traceback": [
      "\u001b[0;31m---------------------------------------------------------------------------\u001b[0m",
      "\u001b[0;31mTypeError\u001b[0m                                 Traceback (most recent call last)",
      "\u001b[0;32m<ipython-input-19-50390b9e151d>\u001b[0m in \u001b[0;36m<module>\u001b[0;34m\u001b[0m\n\u001b[1;32m     15\u001b[0m     \u001b[0mprevious_vertex\u001b[0m \u001b[0;34m=\u001b[0m \u001b[0mvertices\u001b[0m\u001b[0;34m[\u001b[0m\u001b[0mi\u001b[0m\u001b[0;34m-\u001b[0m\u001b[0;36m1\u001b[0m\u001b[0;34m]\u001b[0m\u001b[0;34m\u001b[0m\u001b[0;34m\u001b[0m\u001b[0m\n\u001b[1;32m     16\u001b[0m \u001b[0;34m\u001b[0m\u001b[0m\n\u001b[0;32m---> 17\u001b[0;31m     \u001b[0mv1\u001b[0m \u001b[0;34m=\u001b[0m \u001b[0mnumpy\u001b[0m\u001b[0;34m.\u001b[0m\u001b[0marray\u001b[0m\u001b[0;34m(\u001b[0m\u001b[0mnext_vertex\u001b[0m\u001b[0;34m-\u001b[0m\u001b[0mthis_vertex\u001b[0m\u001b[0;34m)\u001b[0m\u001b[0;34m\u001b[0m\u001b[0;34m\u001b[0m\u001b[0m\n\u001b[0m\u001b[1;32m     18\u001b[0m     \u001b[0mv2\u001b[0m \u001b[0;34m=\u001b[0m \u001b[0mnumpy\u001b[0m\u001b[0;34m.\u001b[0m\u001b[0marray\u001b[0m\u001b[0;34m(\u001b[0m\u001b[0mprevious_vertex\u001b[0m\u001b[0;34m-\u001b[0m\u001b[0mthis_vertex\u001b[0m\u001b[0;34m)\u001b[0m\u001b[0;34m\u001b[0m\u001b[0;34m\u001b[0m\u001b[0m\n\u001b[1;32m     19\u001b[0m \u001b[0;34m\u001b[0m\u001b[0m\n",
      "\u001b[0;31mTypeError\u001b[0m: unsupported operand type(s) for -: 'tuple' and 'tuple'"
     ]
    }
   ],
   "source": [
    "import numpy\n",
    "vertices = [(0,0),(0,1),(1,1),(1,0)]\n",
    "\n",
    "\n",
    "new_vertex = ((vertices[0][0] + vertices[-1][0]) / 2, \n",
    "             (vertices[0][1] + vertices[-1][1]) / 2)\n",
    "\n",
    "\n",
    "print(new_vertex)\n",
    "angles=[]\n",
    "for i, vertex in enumerate(vertices):\n",
    "    print(i,vertices[i-1],vertices[(i+1)%len(vertices)])\n",
    "    this_vertex = vertices[i]\n",
    "    next_vertex = vertices[(i+1)%len(vertices)]\n",
    "    previous_vertex = vertices[i-1]\n",
    "\n",
    "\n",
    "    v1 = (next_vertex[0]-this_vertex[0],next_vertex[1]-this_vertex[1])\n",
    "    v2 = (previous_vertex[0]-this_vertex[0],previous_vertex[1]-this_vertex[1])\n",
    "    \n",
    "    angles.append(numpy.dot(v1,v2)/numpy.norm(v1)/numpy.norm(v2))\n",
    "\n",
    "\n",
    "print(angles)"
   ]
  }
 ]
}