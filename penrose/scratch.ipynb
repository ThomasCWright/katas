{
 "metadata": {
  "language_info": {
   "codemirror_mode": {
    "name": "ipython",
    "version": 3
   },
   "file_extension": ".py",
   "mimetype": "text/x-python",
   "name": "python",
   "nbconvert_exporter": "python",
   "pygments_lexer": "ipython3",
   "version": "3.9.1-final"
  },
  "orig_nbformat": 2,
  "kernelspec": {
   "name": "python39164bitpenrosecondaa6e9f03a54674cf28f7aa696daa8069a",
   "display_name": "Python 3.9.1 64-bit ('penrose': conda)",
   "language": "python"
  }
 },
 "nbformat": 4,
 "nbformat_minor": 2,
 "cells": [
  {
   "cell_type": "code",
   "execution_count": 26,
   "metadata": {},
   "outputs": [
    {
     "output_type": "stream",
     "name": "stdout",
     "text": [
      "(0.5, 0.0)\n0 (1, 0) (0, 1)\n1 (0, 0) (1, 1)\n2 (0, 1) (1, 0)\n3 (1, 1) (0, 0)\n[90.0, 90.0, 90.0, 90.0]\n"
     ]
    }
   ],
   "source": [
    "import numpy\n",
    "import math\n",
    "\n",
    "vertices = [(0,0),(0,1),(1,1),(1,0)]\n",
    "\n",
    "\n",
    "new_vertex = ((vertices[0][0] + vertices[-1][0]) / 2, \n",
    "             (vertices[0][1] + vertices[-1][1]) / 2)\n",
    "\n",
    "\n",
    "print(new_vertex)\n",
    "angles=[]\n",
    "for i, vertex in enumerate(vertices):\n",
    "    print(i,vertices[i-1],vertices[(i+1)%len(vertices)])\n",
    "    this_vertex = vertices[i]\n",
    "    next_vertex = vertices[(i+1)%len(vertices)]\n",
    "    previous_vertex = vertices[i-1]\n",
    "\n",
    "\n",
    "    v1 = (next_vertex[0]-this_vertex[0],next_vertex[1]-this_vertex[1])\n",
    "    v2 = (previous_vertex[0]-this_vertex[0],previous_vertex[1]-this_vertex[1])\n",
    "    \n",
    "    angles.append(math.degrees(math.acos(numpy.dot(v1,v2)/numpy.linalg.norm(v1)/numpy.linalg.norm(v2))))\n",
    "\n",
    "\n",
    "print(angles)"
   ]
  },
  {
   "cell_type": "code",
   "execution_count": 57,
   "metadata": {},
   "outputs": [
    {
     "output_type": "stream",
     "name": "stdout",
     "text": [
      "[(0, 0), (-0.30901699437494734, 0.9510565162951536), (-1.118033988749895, 0.3632712640026806), (-0.30901699437494756, -0.22451398828979274), (1.6653345369377348e-16, 0.7265425280053608)]\n"
     ]
    }
   ],
   "source": [
    "import math\n",
    "origin=(0,0)\n",
    "sides=5\n",
    "vertices=[origin]\n",
    "for i in range(1,sides):\n",
    "    theta=math.radians(i*(180-360/sides))\n",
    "    vertices.append((vertices[i-1][0]+math.cos(theta),vertices[i-1][1]+math.sin(theta)))\n",
    "print(vertices)"
   ]
  },
  {
   "cell_type": "code",
   "execution_count": 47,
   "metadata": {},
   "outputs": [
    {
     "output_type": "stream",
     "name": "stdout",
     "text": [
      "-1.0 3.6739403974420594e-16\n"
     ]
    }
   ],
   "source": [
    "import math\n",
    "theta=108*5\n",
    "print(math.cos(math.radians(theta)),math.sin(math.radians(theta)))\n"
   ]
  },
  {
   "cell_type": "code",
   "execution_count": 7,
   "metadata": {},
   "outputs": [
    {
     "output_type": "execute_result",
     "data": {
      "text/plain": [
       "(0, 0, 0, 1, 1, 1, 1, 0)"
      ]
     },
     "metadata": {},
     "execution_count": 7
    }
   ],
   "source": [
    "vertices = [(0,0),(0,1),(1,1),(1,0)]\n",
    "\n",
    "#b = list(sum(vertices, ()))\n",
    "#print(b)\n",
    "\n",
    "sum(vertices,())"
   ]
  }
 ]
}